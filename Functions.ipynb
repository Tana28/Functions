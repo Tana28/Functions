{
  "nbformat": 4,
  "nbformat_minor": 0,
  "metadata": {
    "colab": {
      "provenance": []
    },
    "kernelspec": {
      "name": "python3",
      "display_name": "Python 3"
    },
    "language_info": {
      "name": "python"
    }
  },
  "cells": [
    {
      "cell_type": "markdown",
      "source": [
        "#Functions Assignment\n",
        "\n",
        "**Theory Question & Answer**"
      ],
      "metadata": {
        "id": "Dn2JkUOvjXsS"
      }
    },
    {
      "cell_type": "markdown",
      "source": [
        "Q1) What is the difference between a function and a method in Python?\n",
        "\n",
        "A1) Difference between a Function and a Method in Python\n",
        "\n",
        "* **Function:** A block of reusable code that performs a task. Defined using def.\n",
        "\n",
        "* **Method:** A function that belongs to an object (usually a class instance).\n"
      ],
      "metadata": {
        "id": "awx0nIaIj3MG"
      }
    },
    {
      "cell_type": "code",
      "source": [
        "# Function Example\n",
        "def add_numbers(a, b):\n",
        "    return a + b\n",
        "\n",
        "print(add_numbers(5, 3))\n",
        "\n",
        "# Method Example\n",
        "class Calculation:\n",
        "    def add_numbers(self, a, b):\n",
        "        return a + b\n",
        "\n",
        "obj = Calculation()\n",
        "print(obj.add_numbers(5, 3))"
      ],
      "metadata": {
        "colab": {
          "base_uri": "https://localhost:8080/"
        },
        "id": "Uhz2Z-v_NoDk",
        "outputId": "756fd52c-d599-45de-bda6-553a56afc072"
      },
      "execution_count": 9,
      "outputs": [
        {
          "output_type": "stream",
          "name": "stdout",
          "text": [
            "8\n",
            "8\n"
          ]
        }
      ]
    },
    {
      "cell_type": "markdown",
      "source": [
        "Q2) Explain the concept of function arguments and parameters in Python.\n",
        "\n",
        "A2) *Parameters and Arguments in Python Functions*\n",
        "\n",
        "* **Parameter:** A variable declared in the function definition. It acts as a placeholder for the value that will be provided when the function is called.\n",
        "\n",
        "* **Argument:** The actual value supplied to the function during the function call. It is assigned to the corresponding parameter.\n",
        "\n",
        "\n",
        "\n"
      ],
      "metadata": {
        "id": "zRbTDvr9kDfL"
      }
    },
    {
      "cell_type": "code",
      "source": [
        "def add(a, b):        # a and b are parameters\n",
        "    return a + b\n",
        "\n",
        "print(add(5, 3))      # 5 and 3 are arguments"
      ],
      "metadata": {
        "colab": {
          "base_uri": "https://localhost:8080/"
        },
        "id": "m5yTwpTXTLha",
        "outputId": "50f7bc6a-f51d-4b12-8edf-09fa7a5eb611"
      },
      "execution_count": 12,
      "outputs": [
        {
          "output_type": "stream",
          "name": "stdout",
          "text": [
            "8\n"
          ]
        }
      ]
    },
    {
      "cell_type": "markdown",
      "source": [
        "Q3) What are the different ways to define and call a function in Python?\n",
        "\n",
        "A3) **Ways to Define and Call Functions in Python**\n",
        "\n",
        "*In Python, functions can be defined in two main ways:*\n",
        "\n",
        " **1) Using** `def` **keyword:** This is used to create named functions. It allows multiple lines of code inside the function.\n",
        "\n",
        " **2) Using** `lambda` **keyword:** This creates small, anonymous (unnamed) functions in a single line, often used for short tasks.\n",
        "\n",
        "\n",
        "*To **call** a function, use the function name followed by parentheses. If it takes arguments, pass them inside the parentheses.*\n",
        "\n",
        "\n"
      ],
      "metadata": {
        "id": "AqDTc53PkL1w"
      }
    },
    {
      "cell_type": "code",
      "source": [
        "# Using def\n",
        "def square(x):\n",
        "    return x * x\n",
        "\n",
        "print(square(4))\n",
        "\n",
        "# Using lambda\n",
        "double = lambda x: x * 2\n",
        "print(double(5))"
      ],
      "metadata": {
        "colab": {
          "base_uri": "https://localhost:8080/"
        },
        "id": "dnI9FmExcM7M",
        "outputId": "3b1aa8a6-9ec6-4ed9-c7b2-5b439646170a"
      },
      "execution_count": 14,
      "outputs": [
        {
          "output_type": "stream",
          "name": "stdout",
          "text": [
            "16\n",
            "10\n"
          ]
        }
      ]
    },
    {
      "cell_type": "markdown",
      "source": [
        "Q4) What is the purpose of the `return` statement in a Python function?\n",
        "\n",
        "A4) *The return statement in Python is used to:*\n",
        "\n",
        "* **Exit a function** and\n",
        "\n",
        "* **Send back a value** to the place where the function was called.\n",
        "\n",
        "When Python encounters a `return` statement, it immediately ends the function and passes the specified value back to the caller.\n",
        "\n",
        "If there is **no** `return`, the function returns None by default."
      ],
      "metadata": {
        "id": "JKPmqybjkRny"
      }
    },
    {
      "cell_type": "code",
      "source": [
        "def add(a, b):\n",
        "    return a + b\n",
        "\n",
        "result = add(3, 4)\n",
        "print(\"Sum is:\", result)\n",
        "\n",
        "# Without return, we couldn’t store or use the result outside the function.\n"
      ],
      "metadata": {
        "colab": {
          "base_uri": "https://localhost:8080/"
        },
        "id": "cOqrtgmzdSG-",
        "outputId": "c0dc1070-b3cf-44da-e9e3-825d81c41edf"
      },
      "execution_count": 17,
      "outputs": [
        {
          "output_type": "stream",
          "name": "stdout",
          "text": [
            "Sum is: 7\n"
          ]
        }
      ]
    },
    {
      "cell_type": "markdown",
      "source": [
        "Q5) What are iterators in Python and how do they differ from iterables?\n",
        "\n",
        "A5) In Python, iterables and iterators are both used for looping, but they behave differently in how they return values.\n",
        "\n",
        "**Iterable**\n",
        "\n",
        "* An object that can be looped over (like in a `for` loop).\n",
        "\n",
        "* Common examples: `list`, `tuple`, `string`, `set`, `dictionary`.\n",
        "\n",
        "* Has a built-in `__iter__()` method that returns an iterator.\n",
        "\n",
        "* Cannot use `next()` directly unless converted into an iterator.\n",
        "\n",
        "**Iterator**\n",
        "\n",
        "* An object that helps iterate (fetch) items one by one.\n",
        "\n",
        "* Uses two methods:\n",
        "\n",
        "* `__iter__()` — returns the iterator itself.\n",
        "\n",
        "* `__next__()` — returns the next item in the sequence.\n",
        "\n",
        "* Remembers the current position in the sequence.\n",
        "\n",
        "* Stops when there are no items left (raises `StopIteration`).\n",
        "\n",
        "\n",
        "**Main Differences**\n",
        "\n",
        "* An **iterable** is like a book — you can read it, but not one word at a time unless you use a marker (iterator).\n",
        "\n",
        "* An **iterator** is like the marker — it knows where you are and gives you the next word (item).\n",
        "\n",
        "* All **iterators are iterables,** but not all **iterables are iterators.**\n"
      ],
      "metadata": {
        "id": "H6lqst45ka8c"
      }
    },
    {
      "cell_type": "code",
      "source": [
        "# Creating an iterable (a list)\n",
        "my_list = [10, 20, 30]\n",
        "\n",
        "# Looping through the iterable\n",
        "print(\"Using for loop on iterable:\")\n",
        "for item in my_list:\n",
        "    print(item)\n",
        "\n",
        "# Converting iterable to an iterator\n",
        "my_iter = iter(my_list)\n",
        "\n",
        "# Using next() to access items one by one\n",
        "print(\"\\nUsing next() on iterator:\")\n",
        "print(next(my_iter))  # Output: 10\n",
        "print(next(my_iter))  # Output: 20\n",
        "print(next(my_iter))  # Output: 30\n"
      ],
      "metadata": {
        "colab": {
          "base_uri": "https://localhost:8080/"
        },
        "id": "UKB-8jpNkiZ9",
        "outputId": "c9bb8f43-bb92-42c5-fc0e-a3223669b094"
      },
      "execution_count": 22,
      "outputs": [
        {
          "output_type": "stream",
          "name": "stdout",
          "text": [
            "Using for loop on iterable:\n",
            "10\n",
            "20\n",
            "30\n",
            "\n",
            "Using next() on iterator:\n",
            "10\n",
            "20\n",
            "30\n"
          ]
        }
      ]
    },
    {
      "cell_type": "markdown",
      "source": [
        "Q6)  Explain the concept of generators in Python and how they are defined.\n",
        "\n",
        "A6) A **generator** in Python is a special type of function that allows you to **generate a sequence of values one at a time**, instead of returning them all at once. It is **memory-efficient** and ideal for working with large or infinite data streams.\n",
        "\n",
        "* Generators are defined like normal functions but use the `yield` keyword instead of `return`.\n",
        "\n",
        "* When called, a generator function **does not execute immediately.** It returns a **generator object.**\n",
        "\n",
        "* Values are generated one at a time using `next()`, and the function **remembers its state** between calls.\n",
        "\n",
        "* You can also loop through a generator using a `for` loop.\n",
        "\n"
      ],
      "metadata": {
        "id": "6t0TkYgmkhTE"
      }
    },
    {
      "cell_type": "code",
      "source": [
        "# Generator function to yield numbers from 1 to n\n",
        "def count_up_to(n):\n",
        "    count = 1\n",
        "    while count <= n:\n",
        "        yield count\n",
        "        count += 1\n",
        "\n",
        "# Creating a generator object\n",
        "gen = count_up_to(3)\n",
        "\n",
        "# Using next() to access generator values one by one\n",
        "print(\"Using next():\")\n",
        "print(next(gen))\n",
        "print(next(gen))\n",
        "print(next(gen))\n",
        "\n",
        "# Uncommenting the line below will raise StopIteration\n",
        "# print(next(gen))\n",
        "\n",
        "# Using a for loop to iterate over the generator\n",
        "print(\"\\nUsing for loop:\")\n",
        "for num in count_up_to(3):\n",
        "    print(num)\n"
      ],
      "metadata": {
        "colab": {
          "base_uri": "https://localhost:8080/"
        },
        "id": "ZAioVP_ZmHe0",
        "outputId": "d4be2300-204a-4cca-ff28-36aeaca46fea"
      },
      "execution_count": 23,
      "outputs": [
        {
          "output_type": "stream",
          "name": "stdout",
          "text": [
            "Using next():\n",
            "1\n",
            "2\n",
            "3\n",
            "\n",
            "Using for loop:\n",
            "1\n",
            "2\n",
            "3\n"
          ]
        }
      ]
    },
    {
      "cell_type": "markdown",
      "source": [
        "Q7) What are the advantages of using generators over regular functions?\n",
        "\n",
        "A7) Generators in Python offer several advantages over regular functions, especially when dealing with large amounts of data or infinite sequences.\n",
        "\n",
        "**1. Memory Efficient**\n",
        "\n",
        "* Generators do not store all values in memory.\n",
        "\n",
        "* They generate values one at a time, which saves memory.\n",
        "\n",
        "**2. Lazy Evaluation**\n",
        "\n",
        "* Values are produced only when needed, not all at once.\n",
        "\n",
        "* Useful for infinite sequences or large data processing.\n",
        "\n",
        "\n",
        "**3. Faster Execution for Large Data**\n",
        "\n",
        "* Generators start producing values immediately, without computing everything in advance.\n",
        "\n",
        "* This makes the program faster and more responsive.\n",
        "\n",
        "**4. Cleaner Code**\n",
        "\n",
        "* Easier to write and manage compared to custom iterator classes.\n",
        "\n",
        "* No need to manually keep track of state.\n",
        "\n",
        "\n",
        "**5. Infinite Sequence Support**\n",
        "\n",
        "* Generators can produce values forever, like streaming data or continuous logs.\n"
      ],
      "metadata": {
        "id": "Kkpb9bfNklbx"
      }
    },
    {
      "cell_type": "code",
      "source": [
        "def countdown(n):\n",
        "    while n > 0:\n",
        "        yield n\n",
        "        n -= 1\n",
        "\n",
        "# Using the generator\n",
        "for number in countdown(5):\n",
        "    print(number)\n"
      ],
      "metadata": {
        "colab": {
          "base_uri": "https://localhost:8080/"
        },
        "id": "DafBckIWsL4u",
        "outputId": "e8fc9b72-383c-4833-eadc-47032030bdbe"
      },
      "execution_count": 24,
      "outputs": [
        {
          "output_type": "stream",
          "name": "stdout",
          "text": [
            "5\n",
            "4\n",
            "3\n",
            "2\n",
            "1\n"
          ]
        }
      ]
    },
    {
      "cell_type": "markdown",
      "source": [
        "Q8) What is a lambda function in Python and when is it typically used?\n",
        "\n",
        "A8)  A **lambda function** in Python is a small, anonymous function defined using the `lambda` keyword.\n",
        "\n",
        "It can take any number of arguments but only has **one expression.** The result of that expression is returned automatically.\n",
        "\n",
        "*Lambda functions are typically used when:*\n",
        "\n",
        "* The function is simple and short\n",
        "\n",
        "* It's used only once or temporarily\n",
        "\n",
        "* You need a quick function for tools like `map()`, `filter()`, or `sorted()`\n",
        "\n",
        "*They help keep the code short and clean, especially for inline operations.*\n"
      ],
      "metadata": {
        "id": "d7ZaEEXjkpj_"
      }
    },
    {
      "cell_type": "code",
      "source": [
        "# Lambda function to find the square of a number\n",
        "square = lambda x: x * x\n",
        "print(square(5))"
      ],
      "metadata": {
        "colab": {
          "base_uri": "https://localhost:8080/"
        },
        "id": "JNcTs1evtxXq",
        "outputId": "a8e1d330-57e6-4c44-db68-1857c8d56dcd"
      },
      "execution_count": 25,
      "outputs": [
        {
          "output_type": "stream",
          "name": "stdout",
          "text": [
            "25\n"
          ]
        }
      ]
    },
    {
      "cell_type": "markdown",
      "source": [
        "Q9)  Explain the purpose and usage of the `map()` function in Python.\n",
        "\n",
        "A9)  Here are some key points about the `map()` function:\n",
        "\n",
        "* map() is a built-in Python function used to apply a given function to every item in an iterable (like a list, tuple, etc.).\n",
        "\n",
        "* It returns a map object which is an iterator — you can convert it to a list, tuple, etc.\n",
        "\n",
        "* The function passed to map() can be a lambda function or a regular function.\n",
        "\n",
        "* It is commonly used for tasks like:\n",
        "\n",
        "  * Performing calculations on each element.\n",
        "\n",
        " * Modifying or transforming data.\n",
        "\n",
        " * Applying the same operation efficiently to all items.\n",
        "\n",
        " # Syntax\n",
        "\n",
        "`map(function, iterable)`\n",
        "\n",
        "* `function:` A function to apply.\n",
        "\n",
        "* `iterable:` The sequence of items to process.\n",
        "\n"
      ],
      "metadata": {
        "id": "8WmTqLpfkxVY"
      }
    },
    {
      "cell_type": "code",
      "source": [
        "# List of numbers\n",
        "numbers = [1, 2, 3, 4, 5]\n",
        "\n",
        "# Using map() with a lambda function to double each number\n",
        "doubled = list(map(lambda x: x * 2, numbers))\n",
        "\n",
        "# Display results\n",
        "print(\"Original List:\", numbers)\n",
        "print(\"Doubled List:\", doubled)\n"
      ],
      "metadata": {
        "colab": {
          "base_uri": "https://localhost:8080/"
        },
        "id": "8rBezBYFwmwG",
        "outputId": "396df18e-e09b-4e1e-ce8c-53e1965760b4"
      },
      "execution_count": 26,
      "outputs": [
        {
          "output_type": "stream",
          "name": "stdout",
          "text": [
            "Original List: [1, 2, 3, 4, 5]\n",
            "Doubled List: [2, 4, 6, 8, 10]\n"
          ]
        }
      ]
    },
    {
      "cell_type": "markdown",
      "source": [
        "Q10) What is the difference between `map()`, `reduce()`, and `filter()` functions in Python?\n",
        "\n",
        "A10) *In Python, `map()`, `filter()`, and `reduce()` are functional programming tools used to process data in different ways.*\n",
        "\n",
        " **1.` map(`) Function**\n",
        "\n",
        "* Applies a function to each item in an iterable.\n",
        "\n",
        "* Returns a new iterable with the modified values.\n",
        "\n",
        "* Useful when you want to transform every element in a sequence.\n",
        "\n",
        "**2. `filter()` Function**\n",
        "\n",
        "* Applies a function to each item, and only keeps the items for which the function returns `True`.\n",
        "\n",
        "* Useful when you want to select specific items from a list based on a condition.\n",
        "\n",
        "**3. reduce() Function**\n",
        "\n",
        "* Applies a function **cumulatively to all items** in an iterable, reducing it to a **single value.**\n",
        "\n",
        "* Must be imported from the `functools` module.\n",
        "\n",
        "* Commonly used for operations like **sum, product,** or joining strings.\n",
        "\n",
        "\n"
      ],
      "metadata": {
        "id": "AmaJma0Hk2Cs"
      }
    },
    {
      "cell_type": "code",
      "source": [
        "from functools import reduce\n",
        "\n",
        "numbers = [1, 2, 3, 4, 5]\n",
        "\n",
        "# map(): Double each number\n",
        "doubled = list(map(lambda x: x * 2, numbers))\n",
        "\n",
        "# filter(): Keep only even numbers\n",
        "evens = list(filter(lambda x: x % 2 == 0, numbers))\n",
        "\n",
        "# reduce(): Multiply all numbers together\n",
        "product = reduce(lambda x, y: x * y, numbers)\n",
        "\n",
        "# Output the results\n",
        "print(\"Original List:\", numbers)\n",
        "print(\"Mapped (Doubled):\", doubled)\n",
        "print(\"Filtered (Evens):\", evens)\n",
        "print(\"Reduced (Product):\", product)\n"
      ],
      "metadata": {
        "colab": {
          "base_uri": "https://localhost:8080/"
        },
        "id": "6PurSx_ozVIQ",
        "outputId": "1a40ddab-e42c-4d16-8414-5681cc8bca2c"
      },
      "execution_count": 27,
      "outputs": [
        {
          "output_type": "stream",
          "name": "stdout",
          "text": [
            "Original List: [1, 2, 3, 4, 5]\n",
            "Mapped (Doubled): [2, 4, 6, 8, 10]\n",
            "Filtered (Evens): [2, 4]\n",
            "Reduced (Product): 120\n"
          ]
        }
      ]
    },
    {
      "cell_type": "markdown",
      "source": [
        "Q11) Using pen & Paper write the internal mechanism for sum operation using  reduce function on this given\n",
        "list:[47,11,42,13]\n",
        "\n",
        "A11) ![Functions.jpg](data:image/jpeg;base64,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)\n"
      ],
      "metadata": {
        "id": "bW-xncgxCpeg"
      }
    },
    {
      "cell_type": "markdown",
      "source": [
        "#Practical"
      ],
      "metadata": {
        "id": "vWHcxeFgC-tM"
      }
    },
    {
      "cell_type": "code",
      "source": [
        "#Question 1) Write a Python function that takes a list of numbers as input and returns the sum of all even numbers in the list.\n",
        "\n",
        "def sum_of_even_numbers(numbers):\n",
        "    sum = 0\n",
        "    for num in numbers:\n",
        "        if num % 2 == 0:\n",
        "            sum += num\n",
        "    return sum\n",
        "\n",
        "# Example usage:\n",
        "numbers = [1, 2, 3, 4, 5, 6, 7, 8, 9, 10]\n",
        "result = sum_of_even_numbers(numbers)\n",
        "print(result)\n"
      ],
      "metadata": {
        "colab": {
          "base_uri": "https://localhost:8080/"
        },
        "id": "VpcEMX8JC-Ya",
        "outputId": "f5f5d7a8-bd27-46d5-aec7-75f09f03eb02"
      },
      "execution_count": 31,
      "outputs": [
        {
          "output_type": "stream",
          "name": "stdout",
          "text": [
            "30\n"
          ]
        }
      ]
    },
    {
      "cell_type": "code",
      "source": [
        "#Question 2) Create a Python function that accepts a string and returns the reverse of that string.\n",
        "\n",
        "def reverse_string(string):\n",
        "    reversed_string = \"\"\n",
        "    for i in range(len(string) - 1, -1, -1):\n",
        "        reversed_string += string[i]\n",
        "    return reversed_string\n",
        "\n",
        "#Example usage\n",
        "\n",
        "string = \"Hello, World!\"\n",
        "result = reverse_string(string)\n",
        "print(result)\n",
        "\n"
      ],
      "metadata": {
        "colab": {
          "base_uri": "https://localhost:8080/"
        },
        "id": "OaXC_eBIDUNK",
        "outputId": "bd7bf569-4cc3-414c-b662-763ef28a4772"
      },
      "execution_count": 33,
      "outputs": [
        {
          "output_type": "stream",
          "name": "stdout",
          "text": [
            "!dlroW ,olleH\n"
          ]
        }
      ]
    },
    {
      "cell_type": "code",
      "source": [
        "#Question 3)  Implement a Python function that takes a list of integers and returns a new list containing the squares of each number.\n",
        "\n",
        "def square_numbers(numbers):\n",
        "    squared_numbers = []\n",
        "    for num in numbers:\n",
        "        squared_numbers.append(num ** 2)\n",
        "    return squared_numbers\n",
        "\n",
        "#Example Usage\n",
        "my_list= [1,2,3,4,5]\n",
        "result = square_numbers(my_list)\n",
        "print(result)\n"
      ],
      "metadata": {
        "colab": {
          "base_uri": "https://localhost:8080/"
        },
        "id": "moGIG75jDT7w",
        "outputId": "5a2d3d39-2efb-48f1-e9c6-b76111fba9c6"
      },
      "execution_count": 34,
      "outputs": [
        {
          "output_type": "stream",
          "name": "stdout",
          "text": [
            "[1, 4, 9, 16, 25]\n"
          ]
        }
      ]
    },
    {
      "cell_type": "code",
      "source": [
        "#Question 4)  Write a Python function that checks if a given number is prime or not from 1 to 200.\n",
        "\n",
        "def is_prime(number):\n",
        "    if number < 2:\n",
        "        return False\n",
        "    for i in range(2, int(number ** 0.5) + 1):\n",
        "        if number % i == 0:\n",
        "            return False\n",
        "    return True\n",
        "\n",
        "#Example usage\n",
        "number = 17\n",
        "result = is_prime(number)\n",
        "print(result)"
      ],
      "metadata": {
        "colab": {
          "base_uri": "https://localhost:8080/"
        },
        "id": "lUn7eWOzDyJe",
        "outputId": "51c24951-8a41-4dad-bd94-8de662beb33d"
      },
      "execution_count": 35,
      "outputs": [
        {
          "output_type": "stream",
          "name": "stdout",
          "text": [
            "True\n"
          ]
        }
      ]
    },
    {
      "cell_type": "code",
      "source": [
        "#Question 5) Create an iterator class in Python that generates the Fibonacci sequence up to a specified number of terms.\n",
        "\n",
        "class FibonacciIterator:\n",
        "    def __init__(self, n):\n",
        "        self.n = n\n",
        "        self.a = 0\n",
        "        self.b = 1\n",
        "    def __iter__(self):\n",
        "        return self\n",
        "    def __next__(self):\n",
        "        if self.n <= 0:\n",
        "            raise StopIteration\n",
        "        result = self.a\n",
        "        self.a, self.b = self.b, self.a + self.b\n",
        "        self.n -= 1\n",
        "        return result\n",
        "\n",
        "#Example usage\n",
        "fib_iterator = FibonacciIterator(10)\n",
        "for num in fib_iterator:\n",
        "    print(num)"
      ],
      "metadata": {
        "colab": {
          "base_uri": "https://localhost:8080/"
        },
        "id": "2f01vQAiD6bw",
        "outputId": "e7cba8af-fd4a-48fd-ff2d-e38209af0264"
      },
      "execution_count": 37,
      "outputs": [
        {
          "output_type": "stream",
          "name": "stdout",
          "text": [
            "0\n",
            "1\n",
            "1\n",
            "2\n",
            "3\n",
            "5\n",
            "8\n",
            "13\n",
            "21\n",
            "34\n"
          ]
        }
      ]
    },
    {
      "cell_type": "code",
      "source": [
        "#Question 6) Write a generator function in Python that yields the powers of 2 up to a given exponent.\n",
        "\n",
        "def powers_of_2(exponent):\n",
        "    for i in range(exponent + 1):\n",
        "        yield 2 ** i\n",
        "\n",
        "def main():\n",
        "    exponent = 5\n",
        "    for power in powers_of_2(exponent):\n",
        "        print(power)\n",
        "\n",
        "if __name__ == \"__main__\":\n",
        "    main()\n",
        "\n"
      ],
      "metadata": {
        "colab": {
          "base_uri": "https://localhost:8080/"
        },
        "id": "eUc1W4cpEC3B",
        "outputId": "00dc2f61-c981-423f-bf12-3b73efa6a42a"
      },
      "execution_count": 41,
      "outputs": [
        {
          "output_type": "stream",
          "name": "stdout",
          "text": [
            "1\n",
            "2\n",
            "4\n",
            "8\n",
            "16\n",
            "32\n"
          ]
        }
      ]
    },
    {
      "cell_type": "code",
      "source": [
        "#Question 7)  Implement a generator function that reads a file line by line and yields each line as a string.\n",
        "\n",
        "def read_lines_from_string(text):\n",
        "    for line in text.splitlines():\n",
        "        yield line.strip()\n",
        "\n",
        "#Example usage\n",
        "text_data = \"\"\"Hello, world!\n",
        "This is a test file.\n",
        "Python is fun.\"\"\"\n",
        "\n",
        "for line in read_lines_from_string(text_data):\n",
        "    print(line)"
      ],
      "metadata": {
        "colab": {
          "base_uri": "https://localhost:8080/"
        },
        "id": "weW1OJh5ELRy",
        "outputId": "fb28821f-6523-4e3b-d709-70aa0c078597"
      },
      "execution_count": 46,
      "outputs": [
        {
          "output_type": "stream",
          "name": "stdout",
          "text": [
            "Hello, world!\n",
            "This is a test file.\n",
            "Python is fun.\n"
          ]
        }
      ]
    },
    {
      "cell_type": "code",
      "source": [
        "#Question 8) Use a lambda function in Python to sort a list of tuples based on the second element of each tuple.\n",
        "\n",
        "data = [(1, 3), (4, 1), (2, 5), (7, 2)]\n",
        "sorted_data = sorted(data, key=lambda x: x[1])\n",
        "print(\"Sorted list based on second element:\", sorted_data)\n"
      ],
      "metadata": {
        "colab": {
          "base_uri": "https://localhost:8080/"
        },
        "id": "gNOHucHaEOJg",
        "outputId": "b94bceab-ce23-4392-bfd0-f1953c78e48b"
      },
      "execution_count": 48,
      "outputs": [
        {
          "output_type": "stream",
          "name": "stdout",
          "text": [
            "Sorted list based on second element: [(4, 1), (7, 2), (1, 3), (2, 5)]\n"
          ]
        }
      ]
    },
    {
      "cell_type": "code",
      "source": [
        "#Question 9) Write a Python program that uses `map()` to convert a list of temperatures from Celsius to Fahrenheit.\n",
        "\n",
        "def celsius_to_fahrenheit(celsius):\n",
        "    return (celsius * 9/5) + 32\n",
        "\n",
        "celsius_temperatures = [0, 10, 20, 30, 40]\n",
        "\n",
        "fahrenheit_temperatures = list(map(celsius_to_fahrenheit, celsius_temperatures))\n",
        "\n",
        "print(\"Fahrenheit temperatures:\", fahrenheit_temperatures)\n"
      ],
      "metadata": {
        "colab": {
          "base_uri": "https://localhost:8080/"
        },
        "id": "MjhRiWHFEdFF",
        "outputId": "01593cae-9442-480d-85f5-9280b84d31a8"
      },
      "execution_count": 50,
      "outputs": [
        {
          "output_type": "stream",
          "name": "stdout",
          "text": [
            "Fahrenheit temperatures: [32.0, 50.0, 68.0, 86.0, 104.0]\n"
          ]
        }
      ]
    },
    {
      "cell_type": "code",
      "source": [
        "#Question 10)  Create a Python program that uses `filter()` to remove all the vowels from a given string.\n",
        "\n",
        "def remove_vowels(string):\n",
        "    vowels = \"aeiouAEIOU\"\n",
        "    filtered_string = \"\"\n",
        "    for char in string:\n",
        "        if char not in vowels:\n",
        "            filtered_string += char\n",
        "    return filtered_string\n",
        "\n",
        "print(remove_vowels(\"Hello, World!\"))"
      ],
      "metadata": {
        "colab": {
          "base_uri": "https://localhost:8080/"
        },
        "id": "4Fqn3fR3ElTj",
        "outputId": "c97bd91e-4254-4aa5-c8cc-54d2b398b931"
      },
      "execution_count": 51,
      "outputs": [
        {
          "output_type": "stream",
          "name": "stdout",
          "text": [
            "Hll, Wrld!\n"
          ]
        }
      ]
    },
    {
      "cell_type": "code",
      "source": [
        "# Question 11) Write a Python program, which returns a list with 2-tuples. Each tuple consists of the order number and the product of the price per item and the quantity. The product should be increased by 10,- € if the value of the order is smaller than 100,00 €.\n",
        "\n",
        "# Data for orders\n",
        "orders = [\n",
        "    [34587, \"Learning Python, Mark Lutz\", 4, 40.95],\n",
        "    [98762, \"Programming Python, Mark Lutz\", 5, 56.80],\n",
        "    [77226, \"Head First Python, Paul Barry\", 3, 32.95],\n",
        "    [88112, \"Einführung in Python3, Bernd Klein\", 3, 24.99]\n",
        "]\n",
        "\n",
        "# Use map() with lambda to calculate the total and apply the additional €10 if necessary\n",
        "order_totals = list(map(lambda order: (order[0], order[2] * order[3] + 10 if order[2] * order[3] < 100 else order[2] * order[3]), orders))\n",
        "\n",
        "# Print the result\n",
        "print(\"Order totals (order number, total price):\", order_totals)\n"
      ],
      "metadata": {
        "colab": {
          "base_uri": "https://localhost:8080/"
        },
        "id": "4GY_-wiGE04S",
        "outputId": "c1a446ab-86c5-40ca-d353-798356ad85c1"
      },
      "execution_count": 52,
      "outputs": [
        {
          "output_type": "stream",
          "name": "stdout",
          "text": [
            "Order totals (order number, total price): [(34587, 163.8), (98762, 284.0), (77226, 108.85000000000001), (88112, 84.97)]\n"
          ]
        }
      ]
    }
  ]
}